{
 "cells": [
  {
   "cell_type": "code",
   "execution_count": 1,
   "id": "6c7fb2b6-1331-4705-a6fe-72484265a743",
   "metadata": {},
   "outputs": [],
   "source": [
    "import numpy as np\n",
    "import xarray as xr\n",
    "import pandas as pd\n",
    "import os\n",
    "import matplotlib\n",
    "import matplotlib.pyplot as plt\n",
    "import glob\n",
    "from cftime import num2date\n",
    "from xarray.coding.cftimeindex import CFTimeIndex\n",
    "import cftime\n"
   ]
  },
  {
   "cell_type": "markdown",
   "id": "a0c51bf6-562e-458e-9cfd-b8dde9a2a5e3",
   "metadata": {},
   "source": [
    "Get Global CRUJRA & GIMMS LAI 4G data for LSTM training "
   ]
  },
  {
   "cell_type": "code",
   "execution_count": 4,
   "id": "f0a9a718-3134-4915-9afa-9173ed7d755f",
   "metadata": {},
   "outputs": [],
   "source": [
    "# Define a preprocessing function to convert 6-hourly to daily by taking the mean\n",
    "def pp_daily_mean(ds):\n",
    "    ds= ds[['TBOT']]\n",
    "    daily = ds.resample(time='1D').mean()\n",
    "    return daily\n",
    "\n",
    "# convert to daily by taking the sum\n",
    "def pp_daily_sum(ds):\n",
    "    daily = ds.resample(time='1D').sum()\n",
    "    return daily\n",
    "\n",
    "# Directory \n",
    "data_dir = '/glade/campaign/cesm/cesmdata/cseg/inputdata/atm/datm7/atm_forcing.datm7.CRUJRA.0.5d.c20241231/three_stream/'\n",
    "# Temperature, Pressure, Winds, Humidity, and Downward Longwave Radiation\n",
    "pattern_tpqwl = f'{data_dir}clmforc.CRUJRAv2.5_0.5x0.5.TPQWL.*.nc'\n",
    "\n",
    "# Open and preprocess all TPQWL files directly to daily\n",
    "ds_tpqwl_daily = xr.open_mfdataset(\n",
    "    sorted(glob.glob(pattern_tpqwl)),\n",
    "    combine='by_coords',\n",
    "    preprocess=pp_daily_mean\n",
    ")"
   ]
  },
  {
   "cell_type": "code",
   "execution_count": 8,
   "id": "c6028074-5320-4ddf-9c3a-b6319fbe0ae1",
   "metadata": {},
   "outputs": [],
   "source": [
    "ds_temp_8220 = ds_tpqwl_daily.sel(time=slice('1982-01-01', '2020-12-16'))"
   ]
  },
  {
   "cell_type": "code",
   "execution_count": 9,
   "id": "3fc16e83-e13a-4211-be20-c5aec43c8ec1",
   "metadata": {},
   "outputs": [
    {
     "data": {
      "text/plain": [
       "<xarray.Dataset>\n",
       "Dimensions:  (lat: 360, lon: 720, time: 14220)\n",
       "Coordinates:\n",
       "  * lat      (lat) float64 -89.75 -89.25 -88.75 -88.25 ... 88.75 89.25 89.75\n",
       "  * lon      (lon) float64 0.25 0.75 1.25 1.75 2.25 ... 358.2 358.8 359.2 359.8\n",
       "  * time     (time) object 1982-01-01 00:00:00 ... 2020-12-16 00:00:00\n",
       "Data variables:\n",
       "    TBOT     (time, lat, lon) float32 dask.array<shape=(14220, 360, 720), chunksize=(1, 360, 720)>"
      ]
     },
     "execution_count": 9,
     "metadata": {},
     "output_type": "execute_result"
    }
   ],
   "source": [
    "ds_temp_8220"
   ]
  },
  {
   "cell_type": "code",
   "execution_count": 10,
   "id": "bf24d95e-6146-4161-a983-233514cb6584",
   "metadata": {},
   "outputs": [],
   "source": [
    "# Precipitation \n",
    "pattern_prec = f'{data_dir}clmforc.CRUJRAv2.5_0.5x0.5.Prec.*.nc'\n",
    "\n",
    "ds_prec_daily = xr.open_mfdataset(\n",
    "    sorted(glob.glob(pattern_prec)),\n",
    "    combine='by_coords',\n",
    "    preprocess=pp_daily_sum\n",
    ")\n",
    "\n",
    "ds_prec_8220 = ds_prec_daily.sel(time=slice('1982-01-01', '2020-12-16'))\n",
    "\n",
    "pattern_solr = f'{data_dir}clmforc.CRUJRAv2.5_0.5x0.5.Solr.*.nc'\n",
    "\n",
    "ds_solr_daily = xr.open_mfdataset(\n",
    "    sorted(glob.glob(pattern_solr)),\n",
    "    combine='by_coords',\n",
    "    preprocess=pp_daily_sum\n",
    ")\n",
    "\n",
    "ds_solr_8220 = ds_solr_daily.sel(time=slice('1982-01-01', '2020-12-16'))\n"
   ]
  }
 ],
 "metadata": {
  "kernelspec": {
   "display_name": "Pangeo (2019.09.12 - py3.7)",
   "language": "python",
   "name": "pangeo-2019.09.12"
  },
  "language_info": {
   "codemirror_mode": {
    "name": "ipython",
    "version": 3
   },
   "file_extension": ".py",
   "mimetype": "text/x-python",
   "name": "python",
   "nbconvert_exporter": "python",
   "pygments_lexer": "ipython3",
   "version": "3.7.3"
  }
 },
 "nbformat": 4,
 "nbformat_minor": 5
}
